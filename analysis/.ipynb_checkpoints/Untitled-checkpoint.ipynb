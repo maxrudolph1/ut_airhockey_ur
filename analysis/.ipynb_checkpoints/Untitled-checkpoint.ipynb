{
 "cells": [
  {
   "cell_type": "code",
   "execution_count": 1,
   "id": "72c287f8-fe79-4323-a2e9-ca208008efe3",
   "metadata": {},
   "outputs": [
    {
     "ename": "ModuleNotFoundError",
     "evalue": "No module named 'matplotlib'",
     "output_type": "error",
     "traceback": [
      "\u001b[0;31m---------------------------------------------------------------------------\u001b[0m",
      "\u001b[0;31mModuleNotFoundError\u001b[0m                       Traceback (most recent call last)",
      "Cell \u001b[0;32mIn[1], line 5\u001b[0m\n\u001b[1;32m      1\u001b[0m \u001b[38;5;28;01mimport\u001b[39;00m \u001b[38;5;21;01mcv2\u001b[39;00m\n\u001b[1;32m      3\u001b[0m \u001b[38;5;28;01mimport\u001b[39;00m \u001b[38;5;21;01mnumpy\u001b[39;00m \u001b[38;5;28;01mas\u001b[39;00m \u001b[38;5;21;01mnp\u001b[39;00m\n\u001b[0;32m----> 5\u001b[0m \u001b[38;5;28;01mfrom\u001b[39;00m \u001b[38;5;21;01mmatplotlib\u001b[39;00m \u001b[38;5;28;01mimport\u001b[39;00m pyplot \u001b[38;5;28;01mas\u001b[39;00m plt\n\u001b[1;32m      9\u001b[0m \u001b[38;5;66;03m# Load the image\u001b[39;00m\n\u001b[1;32m     11\u001b[0m image_path \u001b[38;5;241m=\u001b[39m \u001b[38;5;124m'\u001b[39m\u001b[38;5;124m/mnt/data/puck_test.jpg\u001b[39m\u001b[38;5;124m'\u001b[39m\n",
      "\u001b[0;31mModuleNotFoundError\u001b[0m: No module named 'matplotlib'"
     ]
    }
   ],
   "source": [
    "import cv2\n",
    "import numpy as np\n",
    "from matplotlib import pyplot as plt\n",
    "\n",
    "# Load the image\n",
    "\n",
    "image_path = '/mnt/data/puck_test.jpg'\n",
    "image = cv2.imread(image_path)\n"
   ]
  },
  {
   "cell_type": "code",
   "execution_count": null,
   "id": "9c0a4272-9061-43a9-bf40-0c188854e672",
   "metadata": {},
   "outputs": [],
   "source": [
    "# Let's refine the HSV range based on the user's indication that the puck is on the left side of the image on top of the air hockey table.\n",
    "# Since the image is quite dark and the puck color is not the typical bright green, we may need to adjust the lower bound of the HSV values.\n",
    "\n",
    "# Let's first isolate the left side of the image to avoid false positives from other objects\n",
    "h, w, _ = image.shape\n",
    "left_image = image[:, :w//2]\n",
    "\n",
    "# Convert the left half of the image to HSV\n",
    "left_hsv_image = cv2.cvtColor(left_image, cv2.COLOR_BGR2HSV)\n",
    "\n",
    "# We'll lower the saturation and value thresholds to possibly capture a darker green\n",
    "refined_lower_green = np.array([40, 40, 40])  # Lower saturation and value\n",
    "refined_upper_green = np.array([70, 255, 255])\n",
    "\n",
    "# Create a mask for green color in the left half with the refined thresholds\n",
    "refined_mask = cv2.inRange(left_hsv_image, refined_lower_green, refined_upper_green)\n",
    "\n",
    "# Bitwise-AND mask and left half of the original image\n",
    "refined_result = cv2.bitwise_and(left_image, left_image, mask=refined_mask)\n",
    "\n",
    "# Display the original left half and result side by side\n",
    "plt.figure(figsize=(10, 5))\n",
    "\n",
    "plt.subplot(1, 2, 1)\n",
    "plt.imshow(cv2.cvtColor(left_image, cv2.COLOR_BGR2RGB))\n",
    "plt.title('Original Left Half')\n",
    "plt.axis('off')\n",
    "\n",
    "plt.subplot(1, 2, 2)\n",
    "plt.imshow(cv2.cvtColor(refined_result, cv2.COLOR_BGR2RGB))\n",
    "plt.title('Refined Green Puck Detection')\n",
    "plt.axis('off')\n",
    "\n",
    "plt.show()\n"
   ]
  }
 ],
 "metadata": {
  "kernelspec": {
   "display_name": "Python 3 (ipykernel)",
   "language": "python",
   "name": "python3"
  },
  "language_info": {
   "codemirror_mode": {
    "name": "ipython",
    "version": 3
   },
   "file_extension": ".py",
   "mimetype": "text/x-python",
   "name": "python",
   "nbconvert_exporter": "python",
   "pygments_lexer": "ipython3",
   "version": "3.11.7"
  }
 },
 "nbformat": 4,
 "nbformat_minor": 5
}
